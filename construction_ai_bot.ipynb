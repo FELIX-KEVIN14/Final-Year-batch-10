{
 "cells": [
  {
   "cell_type": "code",
   "execution_count": 1,
   "id": "45746a3b-ce51-4e95-bcfe-8e4e2289b798",
   "metadata": {},
   "outputs": [
    {
     "name": "stdout",
     "output_type": "stream",
     "text": [
      "Requirement already satisfied: transformers in /opt/anaconda3/lib/python3.12/site-packages (4.44.2)\n",
      "Requirement already satisfied: datasets in /opt/anaconda3/lib/python3.12/site-packages (3.0.0)\n",
      "Collecting faiss-cpu\n",
      "  Downloading faiss_cpu-1.10.0-cp312-cp312-macosx_11_0_arm64.whl.metadata (4.4 kB)\n",
      "Requirement already satisfied: torch in /opt/anaconda3/lib/python3.12/site-packages (2.6.0)\n",
      "Requirement already satisfied: filelock in /opt/anaconda3/lib/python3.12/site-packages (from transformers) (3.13.1)\n",
      "Requirement already satisfied: huggingface-hub<1.0,>=0.23.2 in /opt/anaconda3/lib/python3.12/site-packages (from transformers) (0.25.0)\n",
      "Requirement already satisfied: numpy>=1.17 in /opt/anaconda3/lib/python3.12/site-packages (from transformers) (1.26.4)\n",
      "Requirement already satisfied: packaging>=20.0 in /opt/anaconda3/lib/python3.12/site-packages (from transformers) (23.2)\n",
      "Requirement already satisfied: pyyaml>=5.1 in /opt/anaconda3/lib/python3.12/site-packages (from transformers) (6.0.1)\n",
      "Requirement already satisfied: regex!=2019.12.17 in /opt/anaconda3/lib/python3.12/site-packages (from transformers) (2023.10.3)\n",
      "Requirement already satisfied: requests in /opt/anaconda3/lib/python3.12/site-packages (from transformers) (2.32.2)\n",
      "Requirement already satisfied: safetensors>=0.4.1 in /opt/anaconda3/lib/python3.12/site-packages (from transformers) (0.4.5)\n",
      "Requirement already satisfied: tokenizers<0.20,>=0.19 in /opt/anaconda3/lib/python3.12/site-packages (from transformers) (0.19.1)\n",
      "Requirement already satisfied: tqdm>=4.27 in /opt/anaconda3/lib/python3.12/site-packages (from transformers) (4.66.4)\n",
      "Requirement already satisfied: pyarrow>=15.0.0 in /opt/anaconda3/lib/python3.12/site-packages (from datasets) (17.0.0)\n",
      "Requirement already satisfied: dill<0.3.9,>=0.3.0 in /opt/anaconda3/lib/python3.12/site-packages (from datasets) (0.3.8)\n",
      "Requirement already satisfied: pandas in /opt/anaconda3/lib/python3.12/site-packages (from datasets) (2.2.2)\n",
      "Requirement already satisfied: xxhash in /opt/anaconda3/lib/python3.12/site-packages (from datasets) (3.5.0)\n",
      "Requirement already satisfied: multiprocess in /opt/anaconda3/lib/python3.12/site-packages (from datasets) (0.70.16)\n",
      "Requirement already satisfied: fsspec<=2024.6.1,>=2023.1.0 in /opt/anaconda3/lib/python3.12/site-packages (from fsspec[http]<=2024.6.1,>=2023.1.0->datasets) (2024.3.1)\n",
      "Requirement already satisfied: aiohttp in /opt/anaconda3/lib/python3.12/site-packages (from datasets) (3.9.5)\n",
      "Requirement already satisfied: typing-extensions>=4.10.0 in /opt/anaconda3/lib/python3.12/site-packages (from torch) (4.11.0)\n",
      "Requirement already satisfied: networkx in /opt/anaconda3/lib/python3.12/site-packages (from torch) (3.2.1)\n",
      "Requirement already satisfied: jinja2 in /opt/anaconda3/lib/python3.12/site-packages (from torch) (3.1.4)\n",
      "Requirement already satisfied: setuptools in /opt/anaconda3/lib/python3.12/site-packages (from torch) (69.5.1)\n",
      "Requirement already satisfied: sympy==1.13.1 in /opt/anaconda3/lib/python3.12/site-packages (from torch) (1.13.1)\n",
      "Requirement already satisfied: mpmath<1.4,>=1.1.0 in /opt/anaconda3/lib/python3.12/site-packages (from sympy==1.13.1->torch) (1.3.0)\n",
      "Requirement already satisfied: aiosignal>=1.1.2 in /opt/anaconda3/lib/python3.12/site-packages (from aiohttp->datasets) (1.2.0)\n",
      "Requirement already satisfied: attrs>=17.3.0 in /opt/anaconda3/lib/python3.12/site-packages (from aiohttp->datasets) (23.1.0)\n",
      "Requirement already satisfied: frozenlist>=1.1.1 in /opt/anaconda3/lib/python3.12/site-packages (from aiohttp->datasets) (1.4.0)\n",
      "Requirement already satisfied: multidict<7.0,>=4.5 in /opt/anaconda3/lib/python3.12/site-packages (from aiohttp->datasets) (6.0.4)\n",
      "Requirement already satisfied: yarl<2.0,>=1.0 in /opt/anaconda3/lib/python3.12/site-packages (from aiohttp->datasets) (1.9.3)\n",
      "Requirement already satisfied: charset-normalizer<4,>=2 in /opt/anaconda3/lib/python3.12/site-packages (from requests->transformers) (2.0.4)\n",
      "Requirement already satisfied: idna<4,>=2.5 in /opt/anaconda3/lib/python3.12/site-packages (from requests->transformers) (3.7)\n",
      "Requirement already satisfied: urllib3<3,>=1.21.1 in /opt/anaconda3/lib/python3.12/site-packages (from requests->transformers) (2.2.2)\n",
      "Requirement already satisfied: certifi>=2017.4.17 in /opt/anaconda3/lib/python3.12/site-packages (from requests->transformers) (2024.7.4)\n",
      "Requirement already satisfied: MarkupSafe>=2.0 in /opt/anaconda3/lib/python3.12/site-packages (from jinja2->torch) (2.1.3)\n",
      "Requirement already satisfied: python-dateutil>=2.8.2 in /opt/anaconda3/lib/python3.12/site-packages (from pandas->datasets) (2.9.0.post0)\n",
      "Requirement already satisfied: pytz>=2020.1 in /opt/anaconda3/lib/python3.12/site-packages (from pandas->datasets) (2024.1)\n",
      "Requirement already satisfied: tzdata>=2022.7 in /opt/anaconda3/lib/python3.12/site-packages (from pandas->datasets) (2023.3)\n",
      "Requirement already satisfied: six>=1.5 in /opt/anaconda3/lib/python3.12/site-packages (from python-dateutil>=2.8.2->pandas->datasets) (1.16.0)\n",
      "Downloading faiss_cpu-1.10.0-cp312-cp312-macosx_11_0_arm64.whl (3.2 MB)\n",
      "\u001b[2K   \u001b[90m━━━━━━━━━━━━━━━━━━━━━━━━━━━━━━━━━━━━━━━━\u001b[0m \u001b[32m3.2/3.2 MB\u001b[0m \u001b[31m7.6 MB/s\u001b[0m eta \u001b[36m0:00:00\u001b[0mta \u001b[36m0:00:01\u001b[0m\n",
      "\u001b[?25hInstalling collected packages: faiss-cpu\n",
      "Successfully installed faiss-cpu-1.10.0\n"
     ]
    }
   ],
   "source": [
    "!pip install transformers datasets faiss-cpu torch\n"
   ]
  },
  {
   "cell_type": "code",
   "execution_count": 9,
   "id": "cb126403-e0a4-4aff-bdba-16b85ef31733",
   "metadata": {},
   "outputs": [
    {
     "name": "stderr",
     "output_type": "stream",
     "text": [
      "/opt/anaconda3/envs/speech/lib/python3.10/site-packages/tqdm/auto.py:21: TqdmWarning: IProgress not found. Please update jupyter and ipywidgets. See https://ipywidgets.readthedocs.io/en/stable/user_install.html\n",
      "  from .autonotebook import tqdm as notebook_tqdm\n"
     ]
    }
   ],
   "source": [
    "import pandas as pd\n",
    "from transformers import BertTokenizer, BertModel\n",
    "import torch\n",
    "import faiss\n",
    "import numpy as np\n"
   ]
  },
  {
   "cell_type": "code",
   "execution_count": 10,
   "id": "e029f120-c8e0-4e3e-a0d4-e5c19a544623",
   "metadata": {},
   "outputs": [
    {
     "name": "stdout",
     "output_type": "stream",
     "text": [
      "Using MPS (Apple GPU)\n"
     ]
    }
   ],
   "source": [
    "if torch.backends.mps.is_available():\n",
    "    device = torch.device(\"mps\")  # Apple Silicon GPU\n",
    "    print(\"Using MPS (Apple GPU)\")\n",
    "else:\n",
    "    device = torch.device(\"cpu\")\n",
    "    print(\"Using CPU\")\n"
   ]
  },
  {
   "cell_type": "code",
   "execution_count": 11,
   "id": "8bc23616-7b58-4f5b-911d-96a1ae0e6322",
   "metadata": {},
   "outputs": [
    {
     "data": {
      "text/html": [
       "<div>\n",
       "<style scoped>\n",
       "    .dataframe tbody tr th:only-of-type {\n",
       "        vertical-align: middle;\n",
       "    }\n",
       "\n",
       "    .dataframe tbody tr th {\n",
       "        vertical-align: top;\n",
       "    }\n",
       "\n",
       "    .dataframe thead th {\n",
       "        text-align: right;\n",
       "    }\n",
       "</style>\n",
       "<table border=\"1\" class=\"dataframe\">\n",
       "  <thead>\n",
       "    <tr style=\"text-align: right;\">\n",
       "      <th></th>\n",
       "      <th>Question</th>\n",
       "      <th>Answer</th>\n",
       "    </tr>\n",
       "  </thead>\n",
       "  <tbody>\n",
       "    <tr>\n",
       "      <th>0</th>\n",
       "      <td>What is concrete made of?</td>\n",
       "      <td>Concrete is made of cement, water, sand, and a...</td>\n",
       "    </tr>\n",
       "    <tr>\n",
       "      <th>1</th>\n",
       "      <td>What is the role of a civil engineer on a cons...</td>\n",
       "      <td>A civil engineer designs, supervises, and ensu...</td>\n",
       "    </tr>\n",
       "    <tr>\n",
       "      <th>2</th>\n",
       "      <td>What does PPE stand for in construction?</td>\n",
       "      <td>PPE stands for Personal Protective Equipment, ...</td>\n",
       "    </tr>\n",
       "    <tr>\n",
       "      <th>3</th>\n",
       "      <td>What is the purpose of a foundation in constru...</td>\n",
       "      <td>A foundation distributes the weight of the str...</td>\n",
       "    </tr>\n",
       "    <tr>\n",
       "      <th>4</th>\n",
       "      <td>What is curing in concrete construction?</td>\n",
       "      <td>Curing is the process of maintaining moisture ...</td>\n",
       "    </tr>\n",
       "  </tbody>\n",
       "</table>\n",
       "</div>"
      ],
      "text/plain": [
       "                                            Question  \\\n",
       "0                          What is concrete made of?   \n",
       "1  What is the role of a civil engineer on a cons...   \n",
       "2           What does PPE stand for in construction?   \n",
       "3  What is the purpose of a foundation in constru...   \n",
       "4           What is curing in concrete construction?   \n",
       "\n",
       "                                              Answer  \n",
       "0  Concrete is made of cement, water, sand, and a...  \n",
       "1  A civil engineer designs, supervises, and ensu...  \n",
       "2  PPE stands for Personal Protective Equipment, ...  \n",
       "3  A foundation distributes the weight of the str...  \n",
       "4  Curing is the process of maintaining moisture ...  "
      ]
     },
     "execution_count": 11,
     "metadata": {},
     "output_type": "execute_result"
    }
   ],
   "source": [
    "# Load the Q&A dataset from the CSV file\n",
    "df = pd.read_csv(\"qa_dataset.csv\")\n",
    "\n",
    "# Show first few rows to verify the dataset structure\n",
    "df.head()\n"
   ]
  },
  {
   "cell_type": "code",
   "execution_count": 12,
   "id": "5d7e0368-864e-46f7-8248-9cd5722919b7",
   "metadata": {},
   "outputs": [],
   "source": [
    "# Initialize BERT Tokenizer and Model\n",
    "tokenizer = BertTokenizer.from_pretrained('bert-base-uncased')\n",
    "bert_model = BertModel.from_pretrained('bert-base-uncased')\n"
   ]
  },
  {
   "cell_type": "code",
   "execution_count": 15,
   "id": "db502e83-74d7-4987-8020-045506c3dfa4",
   "metadata": {},
   "outputs": [],
   "source": [
    "# Function to encode text with BERT\n",
    "def encode_text(texts, tokenizer, model):\n",
    "    inputs = tokenizer(texts, padding=True, truncation=True, return_tensors=\"pt\")\n",
    "    with torch.no_grad():\n",
    "        embeddings = model(**inputs).last_hidden_state.mean(dim=1).numpy()\n",
    "    return embeddings\n"
   ]
  },
  {
   "cell_type": "code",
   "execution_count": 16,
   "id": "e82fd11c-bdfb-4338-a092-3469faa1f223",
   "metadata": {},
   "outputs": [
    {
     "name": "stdout",
     "output_type": "stream",
     "text": [
      "Number of vectors in the FAISS index: 123\n"
     ]
    }
   ],
   "source": [
    "# Encode the questions to obtain their embeddings\n",
    "questions = df[\"Question\"].tolist()  # Updated column name to 'Question'\n",
    "question_embeddings = encode_text(questions, tokenizer, bert_model)\n",
    "\n",
    "# Create FAISS index\n",
    "dimension = question_embeddings.shape[1]  # BERT output dimension\n",
    "index = faiss.IndexFlatL2(dimension)\n",
    "index.add(np.array(question_embeddings))  # Add embeddings to FAISS index\n",
    "\n",
    "# Verify index size\n",
    "print(f\"Number of vectors in the FAISS index: {index.ntotal}\")\n"
   ]
  },
  {
   "cell_type": "code",
   "execution_count": 17,
   "id": "5dd5ee36-3dc3-44a7-815f-03c8a6c45395",
   "metadata": {},
   "outputs": [],
   "source": [
    "# Function to retrieve the most relevant answer from the dataset\n",
    "def retrieve_answer(query, tokenizer, model, index, df, top_k=1):\n",
    "    query_embedding = encode_text([query], tokenizer, model)\n",
    "    D, I = index.search(query_embedding, top_k)  # D: distances, I: indices of the top_k closest questions\n",
    "    answer = df.iloc[I[0][0]]['Answer']  # Updated column name to 'Answer'\n",
    "    return answer\n"
   ]
  },
  {
   "cell_type": "code",
   "execution_count": 18,
   "id": "bb7869e0-7323-45f0-baa2-7daf66674d60",
   "metadata": {},
   "outputs": [
    {
     "name": "stdout",
     "output_type": "stream",
     "text": [
      "Answer: To build a house, you need to secure land, get necessary permits, hire architects and contractors, lay the foundation, construct walls and roof, install utilities (plumbing, electrical), and finish with interior and exterior finishes.\n"
     ]
    }
   ],
   "source": [
    "# Example query\n",
    "query = \"How can I build a home?\"\n",
    "\n",
    "# Retrieve the answer\n",
    "answer = retrieve_answer(query, tokenizer, bert_model, index, df)\n",
    "print(f\"Answer: {answer}\")\n"
   ]
  },
  {
   "cell_type": "code",
   "execution_count": 19,
   "id": "423e517f-c003-4ecd-92a9-0554e0b1f5d4",
   "metadata": {},
   "outputs": [
    {
     "data": {
      "text/plain": [
       "('bert_qa_tokenizer/tokenizer_config.json',\n",
       " 'bert_qa_tokenizer/special_tokens_map.json',\n",
       " 'bert_qa_tokenizer/vocab.txt',\n",
       " 'bert_qa_tokenizer/added_tokens.json')"
      ]
     },
     "execution_count": 19,
     "metadata": {},
     "output_type": "execute_result"
    }
   ],
   "source": [
    "# Save FAISS index and BERT model for later use\n",
    "faiss.write_index(index, \"qa_faiss.index\")\n",
    "bert_model.save_pretrained(\"bert_qa_model\")\n",
    "tokenizer.save_pretrained(\"bert_qa_tokenizer\")\n"
   ]
  },
  {
   "cell_type": "code",
   "execution_count": 20,
   "id": "e7ee0012-52f2-4f28-a262-4d2c0aa162fd",
   "metadata": {},
   "outputs": [],
   "source": [
    "# Load the saved FAISS index and BERT model\n",
    "index = faiss.read_index(\"qa_faiss.index\")\n",
    "bert_model = BertModel.from_pretrained(\"bert_qa_model\")\n",
    "tokenizer = BertTokenizer.from_pretrained(\"bert_qa_tokenizer\")\n"
   ]
  },
  {
   "cell_type": "code",
   "execution_count": 25,
   "id": "8a971f51-9124-49db-9249-87e1d1b72182",
   "metadata": {},
   "outputs": [
    {
     "name": "stdout",
     "output_type": "stream",
     "text": [
      "Answer: In case of a fire, activate the alarm, evacuate immediately, call emergency services, and do not attempt to fight the fire unless it is small and manageable.\n"
     ]
    }
   ],
   "source": [
    "# Example query to test the loaded model\n",
    "query = \"how to build a home What should I do get injured on a construction site?and how to build a home\"\n",
    "\n",
    "# Retrieve the answer\n",
    "answer = retrieve_answer(query, tokenizer, bert_model, index, df)\n",
    "print(f\"Answer: {answer}\")\n"
   ]
  },
  {
   "cell_type": "code",
   "execution_count": 26,
   "id": "0cf8eb55-fe1b-4d00-8b6b-31bb663172b5",
   "metadata": {},
   "outputs": [
    {
     "name": "stdout",
     "output_type": "stream",
     "text": [
      "Generated Answer: [unused1] ottawa is a gable roof?? [unused735]bby? [unused939] roof? [unused134]? 12? m? is a what is a is a worsened roof is a roof? g? [unused3] what is [unused1]\n"
     ]
    }
   ],
   "source": [
    "from transformers import BartForConditionalGeneration\n",
    "\n",
    "# Load a pre-trained BART model for generation\n",
    "model = BartForConditionalGeneration.from_pretrained('facebook/bart-large')\n",
    "\n",
    "# Function to generate answers with BART\n",
    "def generate_answer(query, tokenizer, model):\n",
    "    inputs = tokenizer(query, return_tensors=\"pt\")\n",
    "    summary_ids = model.generate(inputs['input_ids'], max_length=50, num_beams=4, early_stopping=True)\n",
    "    generated_text = tokenizer.decode(summary_ids[0], skip_special_tokens=True)\n",
    "    return generated_text\n",
    "\n",
    "# Test the generation model\n",
    "query = \"What is a gable roof?\"\n",
    "answer = generate_answer(query, tokenizer, model)\n",
    "print(f\"Generated Answer: {answer}\")\n"
   ]
  },
  {
   "cell_type": "code",
   "execution_count": null,
   "id": "95176579-535c-4389-8351-1d91a7a28b06",
   "metadata": {},
   "outputs": [],
   "source": []
  }
 ],
 "metadata": {
  "kernelspec": {
   "display_name": "Python 3 (ipykernel)",
   "language": "python",
   "name": "python3"
  },
  "language_info": {
   "codemirror_mode": {
    "name": "ipython",
    "version": 3
   },
   "file_extension": ".py",
   "mimetype": "text/x-python",
   "name": "python",
   "nbconvert_exporter": "python",
   "pygments_lexer": "ipython3",
   "version": "3.10.16"
  }
 },
 "nbformat": 4,
 "nbformat_minor": 5
}
